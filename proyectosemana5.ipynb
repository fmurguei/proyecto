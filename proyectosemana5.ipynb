{
 "cells": [
  {
   "cell_type": "markdown",
   "metadata": {},
   "source": [
    "# INTRODUCTION"
   ]
  },
  {
   "cell_type": "markdown",
   "metadata": {},
   "source": [
    "Do the analysis to find the best location to start a salon business\n",
    "of beauty in Guayaquil how many clients could be captured in each sector and what type of\n",
    "service would have more clients:\n",
    "\n",
    "Tipo de servicio\n",
    "barbero\n",
    "manicure-pedicure\n",
    "corte pelo\n",
    "blower\n",
    "\n",
    "sector\n",
    "norte\n",
    "sur\n",
    "centro\n",
    "\n",
    "\n"
   ]
  },
  {
   "cell_type": "markdown",
   "metadata": {},
   "source": [
    "# DATA"
   ]
  },
  {
   "cell_type": "code",
   "execution_count": null,
   "metadata": {},
   "outputs": [],
   "source": [
    "\n",
    "table of statistics of sectors north central south\n",
    "of people living in certain sectors to\n",
    "determine what type of service they use the most from a beauty salon"
   ]
  },
  {
   "cell_type": "code",
   "execution_count": 140,
   "metadata": {},
   "outputs": [
    {
     "data": {
      "text/html": [
       "<div>\n",
       "<style scoped>\n",
       "    .dataframe tbody tr th:only-of-type {\n",
       "        vertical-align: middle;\n",
       "    }\n",
       "\n",
       "    .dataframe tbody tr th {\n",
       "        vertical-align: top;\n",
       "    }\n",
       "\n",
       "    .dataframe thead th {\n",
       "        text-align: right;\n",
       "    }\n",
       "</style>\n",
       "<table border=\"1\" class=\"dataframe\">\n",
       "  <thead>\n",
       "    <tr style=\"text-align: right;\">\n",
       "      <th></th>\n",
       "      <th>sector</th>\n",
       "      <th>edad</th>\n",
       "      <th>sexo</th>\n",
       "      <th>tipo servicio</th>\n",
       "    </tr>\n",
       "  </thead>\n",
       "  <tbody>\n",
       "    <tr>\n",
       "      <th>0</th>\n",
       "      <td>norte</td>\n",
       "      <td>20</td>\n",
       "      <td>M</td>\n",
       "      <td>Barbero</td>\n",
       "    </tr>\n",
       "    <tr>\n",
       "      <th>1</th>\n",
       "      <td>sur</td>\n",
       "      <td>12</td>\n",
       "      <td>F</td>\n",
       "      <td>manicure-pedicure</td>\n",
       "    </tr>\n",
       "    <tr>\n",
       "      <th>2</th>\n",
       "      <td>centro</td>\n",
       "      <td>15</td>\n",
       "      <td>F</td>\n",
       "      <td>manicure-pedicure</td>\n",
       "    </tr>\n",
       "    <tr>\n",
       "      <th>3</th>\n",
       "      <td>norte</td>\n",
       "      <td>40</td>\n",
       "      <td>F</td>\n",
       "      <td>manicure-pedicure</td>\n",
       "    </tr>\n",
       "    <tr>\n",
       "      <th>4</th>\n",
       "      <td>centro</td>\n",
       "      <td>30</td>\n",
       "      <td>M</td>\n",
       "      <td>corte pelo</td>\n",
       "    </tr>\n",
       "  </tbody>\n",
       "</table>\n",
       "</div>"
      ],
      "text/plain": [
       "   sector  edad sexo      tipo servicio\n",
       "0   norte    20    M            Barbero\n",
       "1     sur    12    F  manicure-pedicure\n",
       "2  centro    15    F  manicure-pedicure\n",
       "3   norte    40    F  manicure-pedicure\n",
       "4  centro    30    M         corte pelo"
      ]
     },
     "execution_count": 140,
     "metadata": {},
     "output_type": "execute_result"
    }
   ],
   "source": [
    "import pandas as pd\n",
    "df = pd.read_csv('C:\\coursera\\machine learning\\proyecto final\\datos.csv', sep=';')\n",
    "df.head()"
   ]
  },
  {
   "cell_type": "markdown",
   "metadata": {},
   "source": [
    "# Methodology "
   ]
  },
  {
   "cell_type": "markdown",
   "metadata": {},
   "source": [
    "\n",
    "Machine learning K Nearest Neighbor (KNN) was used\n",
    "\n",
    "to predict the type that customers will use the most"
   ]
  },
  {
   "cell_type": "code",
   "execution_count": 108,
   "metadata": {},
   "outputs": [],
   "source": [
    "import itertools\n",
    "import numpy as np\n",
    "import matplotlib.pyplot as plt\n",
    "from matplotlib.ticker import NullFormatter\n",
    "import pandas as pd\n",
    "import numpy as np\n",
    "import seaborn as sns\n",
    "import matplotlib.ticker as ticker\n",
    "from sklearn import preprocessing\n",
    "%matplotlib inline\n",
    "\n",
    "#df.shape\n"
   ]
  },
  {
   "cell_type": "code",
   "execution_count": 82,
   "metadata": {},
   "outputs": [
    {
     "name": "stdout",
     "output_type": "stream",
     "text": [
      "Collecting package metadata (current_repodata.json): ...working... done\n",
      "Solving environment: ...working... done\n",
      "\n",
      "# All requested packages already installed.\n",
      "\n"
     ]
    }
   ],
   "source": [
    "!conda install -c anaconda seaborn -y"
   ]
  },
  {
   "cell_type": "code",
   "execution_count": 109,
   "metadata": {},
   "outputs": [
    {
     "data": {
      "text/plain": [
       "manicure-pedicure    8\n",
       "Barbero              5\n",
       "corte pelo           4\n",
       "blower               1\n",
       "Name: tipo servicio, dtype: int64"
      ]
     },
     "execution_count": 109,
     "metadata": {},
     "output_type": "execute_result"
    }
   ],
   "source": [
    "df['tipo servicio'].value_counts()"
   ]
  },
  {
   "cell_type": "code",
   "execution_count": 110,
   "metadata": {},
   "outputs": [
    {
     "data": {
      "image/png": "[encoded data removed]",
      "text/plain": [
       "<Figure size 432x216 with 2 Axes>"
      ]
     },
     "metadata": {
      "needs_background": "light"
     },
     "output_type": "display_data"
    }
   ],
   "source": [
    "\n",
    "bins = np.linspace(df.edad.min(), df.edad.max(), 10)\n",
    "g = sns.FacetGrid(df, col=\"sexo\", hue=\"tipo servicio\", palette=\"Set1\", col_wrap=2)\n",
    "g.map(plt.hist, 'edad', bins=bins, ec=\"k\")\n",
    "\n",
    "g.axes[0].legend()\n",
    "g.axes[-1].legend()\n",
    "plt.show()"
   ]
  },
  {
   "cell_type": "code",
   "execution_count": 111,
   "metadata": {},
   "outputs": [
    {
     "data": {
      "text/plain": [
       "sexo  tipo servicio    \n",
       "F     manicure-pedicure    0.666667\n",
       "      corte pelo           0.250000\n",
       "      blower               0.083333\n",
       "M     Barbero              0.833333\n",
       "      corte pelo           0.166667\n",
       "Name: tipo servicio, dtype: float64"
      ]
     },
     "execution_count": 111,
     "metadata": {},
     "output_type": "execute_result"
    }
   ],
   "source": [
    "df.groupby(['sexo'])['tipo servicio'].value_counts(normalize=True)"
   ]
  },
  {
   "cell_type": "code",
   "execution_count": 133,
   "metadata": {},
   "outputs": [
    {
     "data": {
      "text/html": [
       "<div>\n",
       "<style scoped>\n",
       "    .dataframe tbody tr th:only-of-type {\n",
       "        vertical-align: middle;\n",
       "    }\n",
       "\n",
       "    .dataframe tbody tr th {\n",
       "        vertical-align: top;\n",
       "    }\n",
       "\n",
       "    .dataframe thead th {\n",
       "        text-align: right;\n",
       "    }\n",
       "</style>\n",
       "<table border=\"1\" class=\"dataframe\">\n",
       "  <thead>\n",
       "    <tr style=\"text-align: right;\">\n",
       "      <th></th>\n",
       "      <th>sector</th>\n",
       "      <th>edad</th>\n",
       "      <th>sexo</th>\n",
       "      <th>tipo servicio</th>\n",
       "    </tr>\n",
       "  </thead>\n",
       "  <tbody>\n",
       "    <tr>\n",
       "      <th>0</th>\n",
       "      <td>norte</td>\n",
       "      <td>20</td>\n",
       "      <td>M</td>\n",
       "      <td>Barbero</td>\n",
       "    </tr>\n",
       "    <tr>\n",
       "      <th>1</th>\n",
       "      <td>sur</td>\n",
       "      <td>12</td>\n",
       "      <td>F</td>\n",
       "      <td>manicure-pedicure</td>\n",
       "    </tr>\n",
       "    <tr>\n",
       "      <th>2</th>\n",
       "      <td>centro</td>\n",
       "      <td>15</td>\n",
       "      <td>F</td>\n",
       "      <td>manicure-pedicure</td>\n",
       "    </tr>\n",
       "    <tr>\n",
       "      <th>3</th>\n",
       "      <td>norte</td>\n",
       "      <td>40</td>\n",
       "      <td>F</td>\n",
       "      <td>manicure-pedicure</td>\n",
       "    </tr>\n",
       "    <tr>\n",
       "      <th>4</th>\n",
       "      <td>centro</td>\n",
       "      <td>30</td>\n",
       "      <td>M</td>\n",
       "      <td>corte pelo</td>\n",
       "    </tr>\n",
       "    <tr>\n",
       "      <th>5</th>\n",
       "      <td>sur</td>\n",
       "      <td>20</td>\n",
       "      <td>F</td>\n",
       "      <td>blower</td>\n",
       "    </tr>\n",
       "    <tr>\n",
       "      <th>6</th>\n",
       "      <td>norte</td>\n",
       "      <td>20</td>\n",
       "      <td>M</td>\n",
       "      <td>Barbero</td>\n",
       "    </tr>\n",
       "    <tr>\n",
       "      <th>7</th>\n",
       "      <td>sur</td>\n",
       "      <td>12</td>\n",
       "      <td>F</td>\n",
       "      <td>manicure-pedicure</td>\n",
       "    </tr>\n",
       "    <tr>\n",
       "      <th>8</th>\n",
       "      <td>centro</td>\n",
       "      <td>15</td>\n",
       "      <td>F</td>\n",
       "      <td>manicure-pedicure</td>\n",
       "    </tr>\n",
       "    <tr>\n",
       "      <th>9</th>\n",
       "      <td>norte</td>\n",
       "      <td>40</td>\n",
       "      <td>F</td>\n",
       "      <td>corte pelo</td>\n",
       "    </tr>\n",
       "    <tr>\n",
       "      <th>10</th>\n",
       "      <td>centro</td>\n",
       "      <td>50</td>\n",
       "      <td>M</td>\n",
       "      <td>Barbero</td>\n",
       "    </tr>\n",
       "    <tr>\n",
       "      <th>11</th>\n",
       "      <td>sur</td>\n",
       "      <td>20</td>\n",
       "      <td>F</td>\n",
       "      <td>corte pelo</td>\n",
       "    </tr>\n",
       "    <tr>\n",
       "      <th>12</th>\n",
       "      <td>norte</td>\n",
       "      <td>25</td>\n",
       "      <td>M</td>\n",
       "      <td>Barbero</td>\n",
       "    </tr>\n",
       "    <tr>\n",
       "      <th>13</th>\n",
       "      <td>sur</td>\n",
       "      <td>12</td>\n",
       "      <td>F</td>\n",
       "      <td>manicure-pedicure</td>\n",
       "    </tr>\n",
       "    <tr>\n",
       "      <th>14</th>\n",
       "      <td>centro</td>\n",
       "      <td>45</td>\n",
       "      <td>F</td>\n",
       "      <td>manicure-pedicure</td>\n",
       "    </tr>\n",
       "    <tr>\n",
       "      <th>15</th>\n",
       "      <td>norte</td>\n",
       "      <td>40</td>\n",
       "      <td>F</td>\n",
       "      <td>corte pelo</td>\n",
       "    </tr>\n",
       "    <tr>\n",
       "      <th>16</th>\n",
       "      <td>centro</td>\n",
       "      <td>50</td>\n",
       "      <td>M</td>\n",
       "      <td>Barbero</td>\n",
       "    </tr>\n",
       "    <tr>\n",
       "      <th>17</th>\n",
       "      <td>sur</td>\n",
       "      <td>20</td>\n",
       "      <td>F</td>\n",
       "      <td>manicure-pedicure</td>\n",
       "    </tr>\n",
       "  </tbody>\n",
       "</table>\n",
       "</div>"
      ],
      "text/plain": [
       "    sector  edad sexo      tipo servicio\n",
       "0    norte    20    M            Barbero\n",
       "1      sur    12    F  manicure-pedicure\n",
       "2   centro    15    F  manicure-pedicure\n",
       "3    norte    40    F  manicure-pedicure\n",
       "4   centro    30    M         corte pelo\n",
       "5      sur    20    F             blower\n",
       "6    norte    20    M            Barbero\n",
       "7      sur    12    F  manicure-pedicure\n",
       "8   centro    15    F  manicure-pedicure\n",
       "9    norte    40    F         corte pelo\n",
       "10  centro    50    M            Barbero\n",
       "11     sur    20    F         corte pelo\n",
       "12   norte    25    M            Barbero\n",
       "13     sur    12    F  manicure-pedicure\n",
       "14  centro    45    F  manicure-pedicure\n",
       "15   norte    40    F         corte pelo\n",
       "16  centro    50    M            Barbero\n",
       "17     sur    20    F  manicure-pedicure"
      ]
     },
     "execution_count": 133,
     "metadata": {},
     "output_type": "execute_result"
    }
   ],
   "source": [
    "Feature = df\n",
    "Feature"
   ]
  },
  {
   "cell_type": "code",
   "execution_count": 115,
   "metadata": {},
   "outputs": [
    {
     "data": {
      "text/html": [
       "<div>\n",
       "<style scoped>\n",
       "    .dataframe tbody tr th:only-of-type {\n",
       "        vertical-align: middle;\n",
       "    }\n",
       "\n",
       "    .dataframe tbody tr th {\n",
       "        vertical-align: top;\n",
       "    }\n",
       "\n",
       "    .dataframe thead th {\n",
       "        text-align: right;\n",
       "    }\n",
       "</style>\n",
       "<table border=\"1\" class=\"dataframe\">\n",
       "  <thead>\n",
       "    <tr style=\"text-align: right;\">\n",
       "      <th></th>\n",
       "      <th>sector</th>\n",
       "      <th>edad</th>\n",
       "      <th>sexo</th>\n",
       "      <th>tipo servicio</th>\n",
       "    </tr>\n",
       "  </thead>\n",
       "  <tbody>\n",
       "    <tr>\n",
       "      <th>0</th>\n",
       "      <td>norte</td>\n",
       "      <td>20</td>\n",
       "      <td>0</td>\n",
       "      <td>Barbero</td>\n",
       "    </tr>\n",
       "    <tr>\n",
       "      <th>1</th>\n",
       "      <td>sur</td>\n",
       "      <td>12</td>\n",
       "      <td>1</td>\n",
       "      <td>manicure-pedicure</td>\n",
       "    </tr>\n",
       "    <tr>\n",
       "      <th>2</th>\n",
       "      <td>centro</td>\n",
       "      <td>15</td>\n",
       "      <td>1</td>\n",
       "      <td>manicure-pedicure</td>\n",
       "    </tr>\n",
       "    <tr>\n",
       "      <th>3</th>\n",
       "      <td>norte</td>\n",
       "      <td>40</td>\n",
       "      <td>1</td>\n",
       "      <td>manicure-pedicure</td>\n",
       "    </tr>\n",
       "    <tr>\n",
       "      <th>4</th>\n",
       "      <td>centro</td>\n",
       "      <td>30</td>\n",
       "      <td>0</td>\n",
       "      <td>corte pelo</td>\n",
       "    </tr>\n",
       "  </tbody>\n",
       "</table>\n",
       "</div>"
      ],
      "text/plain": [
       "   sector  edad  sexo      tipo servicio\n",
       "0   norte    20     0            Barbero\n",
       "1     sur    12     1  manicure-pedicure\n",
       "2  centro    15     1  manicure-pedicure\n",
       "3   norte    40     1  manicure-pedicure\n",
       "4  centro    30     0         corte pelo"
      ]
     },
     "execution_count": 115,
     "metadata": {},
     "output_type": "execute_result"
    }
   ],
   "source": [
    "df['sexo'].replace(to_replace=['M','F'], value=[0,1],inplace=True)\n",
    "df.head()\n",
    "\n"
   ]
  },
  {
   "cell_type": "code",
   "execution_count": 116,
   "metadata": {},
   "outputs": [
    {
     "data": {
      "text/html": [
       "<div>\n",
       "<style scoped>\n",
       "    .dataframe tbody tr th:only-of-type {\n",
       "        vertical-align: middle;\n",
       "    }\n",
       "\n",
       "    .dataframe tbody tr th {\n",
       "        vertical-align: top;\n",
       "    }\n",
       "\n",
       "    .dataframe thead th {\n",
       "        text-align: right;\n",
       "    }\n",
       "</style>\n",
       "<table border=\"1\" class=\"dataframe\">\n",
       "  <thead>\n",
       "    <tr style=\"text-align: right;\">\n",
       "      <th></th>\n",
       "      <th>sector</th>\n",
       "      <th>edad</th>\n",
       "      <th>sexo</th>\n",
       "      <th>tipo servicio</th>\n",
       "    </tr>\n",
       "  </thead>\n",
       "  <tbody>\n",
       "    <tr>\n",
       "      <th>0</th>\n",
       "      <td>0</td>\n",
       "      <td>20</td>\n",
       "      <td>0</td>\n",
       "      <td>Barbero</td>\n",
       "    </tr>\n",
       "    <tr>\n",
       "      <th>1</th>\n",
       "      <td>1</td>\n",
       "      <td>12</td>\n",
       "      <td>1</td>\n",
       "      <td>manicure-pedicure</td>\n",
       "    </tr>\n",
       "    <tr>\n",
       "      <th>2</th>\n",
       "      <td>2</td>\n",
       "      <td>15</td>\n",
       "      <td>1</td>\n",
       "      <td>manicure-pedicure</td>\n",
       "    </tr>\n",
       "    <tr>\n",
       "      <th>3</th>\n",
       "      <td>0</td>\n",
       "      <td>40</td>\n",
       "      <td>1</td>\n",
       "      <td>manicure-pedicure</td>\n",
       "    </tr>\n",
       "    <tr>\n",
       "      <th>4</th>\n",
       "      <td>2</td>\n",
       "      <td>30</td>\n",
       "      <td>0</td>\n",
       "      <td>corte pelo</td>\n",
       "    </tr>\n",
       "  </tbody>\n",
       "</table>\n",
       "</div>"
      ],
      "text/plain": [
       "   sector  edad  sexo      tipo servicio\n",
       "0       0    20     0            Barbero\n",
       "1       1    12     1  manicure-pedicure\n",
       "2       2    15     1  manicure-pedicure\n",
       "3       0    40     1  manicure-pedicure\n",
       "4       2    30     0         corte pelo"
      ]
     },
     "execution_count": 116,
     "metadata": {},
     "output_type": "execute_result"
    }
   ],
   "source": [
    "df['sector'].replace(to_replace=['norte','sur','centro'], value=[0,1,2],inplace=True)\n",
    "df.head()\n",
    "\n"
   ]
  },
  {
   "cell_type": "code",
   "execution_count": 117,
   "metadata": {},
   "outputs": [
    {
     "data": {
      "text/html": [
       "<div>\n",
       "<style scoped>\n",
       "    .dataframe tbody tr th:only-of-type {\n",
       "        vertical-align: middle;\n",
       "    }\n",
       "\n",
       "    .dataframe tbody tr th {\n",
       "        vertical-align: top;\n",
       "    }\n",
       "\n",
       "    .dataframe thead th {\n",
       "        text-align: right;\n",
       "    }\n",
       "</style>\n",
       "<table border=\"1\" class=\"dataframe\">\n",
       "  <thead>\n",
       "    <tr style=\"text-align: right;\">\n",
       "      <th></th>\n",
       "      <th>sector</th>\n",
       "      <th>edad</th>\n",
       "      <th>sexo</th>\n",
       "      <th>tipo servicio</th>\n",
       "    </tr>\n",
       "  </thead>\n",
       "  <tbody>\n",
       "    <tr>\n",
       "      <th>0</th>\n",
       "      <td>0</td>\n",
       "      <td>20</td>\n",
       "      <td>0</td>\n",
       "      <td>0</td>\n",
       "    </tr>\n",
       "    <tr>\n",
       "      <th>1</th>\n",
       "      <td>1</td>\n",
       "      <td>12</td>\n",
       "      <td>1</td>\n",
       "      <td>1</td>\n",
       "    </tr>\n",
       "    <tr>\n",
       "      <th>2</th>\n",
       "      <td>2</td>\n",
       "      <td>15</td>\n",
       "      <td>1</td>\n",
       "      <td>1</td>\n",
       "    </tr>\n",
       "    <tr>\n",
       "      <th>3</th>\n",
       "      <td>0</td>\n",
       "      <td>40</td>\n",
       "      <td>1</td>\n",
       "      <td>1</td>\n",
       "    </tr>\n",
       "    <tr>\n",
       "      <th>4</th>\n",
       "      <td>2</td>\n",
       "      <td>30</td>\n",
       "      <td>0</td>\n",
       "      <td>2</td>\n",
       "    </tr>\n",
       "  </tbody>\n",
       "</table>\n",
       "</div>"
      ],
      "text/plain": [
       "   sector  edad  sexo  tipo servicio\n",
       "0       0    20     0              0\n",
       "1       1    12     1              1\n",
       "2       2    15     1              1\n",
       "3       0    40     1              1\n",
       "4       2    30     0              2"
      ]
     },
     "execution_count": 117,
     "metadata": {},
     "output_type": "execute_result"
    }
   ],
   "source": [
    "df['tipo servicio'].replace(to_replace=['Barbero','manicure-pedicure','corte pelo','blower'], value=[0,1,2,3],inplace=True)\n",
    "df.head()"
   ]
  },
  {
   "cell_type": "code",
   "execution_count": 118,
   "metadata": {},
   "outputs": [
    {
     "data": {
      "text/html": [
       "<div>\n",
       "<style scoped>\n",
       "    .dataframe tbody tr th:only-of-type {\n",
       "        vertical-align: middle;\n",
       "    }\n",
       "\n",
       "    .dataframe tbody tr th {\n",
       "        vertical-align: top;\n",
       "    }\n",
       "\n",
       "    .dataframe thead th {\n",
       "        text-align: right;\n",
       "    }\n",
       "</style>\n",
       "<table border=\"1\" class=\"dataframe\">\n",
       "  <thead>\n",
       "    <tr style=\"text-align: right;\">\n",
       "      <th></th>\n",
       "      <th>sector</th>\n",
       "      <th>edad</th>\n",
       "      <th>sexo</th>\n",
       "      <th>tipo servicio</th>\n",
       "    </tr>\n",
       "  </thead>\n",
       "  <tbody>\n",
       "    <tr>\n",
       "      <th>0</th>\n",
       "      <td>0</td>\n",
       "      <td>20</td>\n",
       "      <td>0</td>\n",
       "      <td>0</td>\n",
       "    </tr>\n",
       "    <tr>\n",
       "      <th>1</th>\n",
       "      <td>1</td>\n",
       "      <td>12</td>\n",
       "      <td>1</td>\n",
       "      <td>1</td>\n",
       "    </tr>\n",
       "    <tr>\n",
       "      <th>2</th>\n",
       "      <td>2</td>\n",
       "      <td>15</td>\n",
       "      <td>1</td>\n",
       "      <td>1</td>\n",
       "    </tr>\n",
       "    <tr>\n",
       "      <th>3</th>\n",
       "      <td>0</td>\n",
       "      <td>40</td>\n",
       "      <td>1</td>\n",
       "      <td>1</td>\n",
       "    </tr>\n",
       "    <tr>\n",
       "      <th>4</th>\n",
       "      <td>2</td>\n",
       "      <td>30</td>\n",
       "      <td>0</td>\n",
       "      <td>2</td>\n",
       "    </tr>\n",
       "  </tbody>\n",
       "</table>\n",
       "</div>"
      ],
      "text/plain": [
       "   sector  edad  sexo  tipo servicio\n",
       "0       0    20     0              0\n",
       "1       1    12     1              1\n",
       "2       2    15     1              1\n",
       "3       0    40     1              1\n",
       "4       2    30     0              2"
      ]
     },
     "execution_count": 118,
     "metadata": {},
     "output_type": "execute_result"
    }
   ],
   "source": [
    "X = Feature\n",
    "X[0:5]"
   ]
  },
  {
   "cell_type": "code",
   "execution_count": 119,
   "metadata": {},
   "outputs": [
    {
     "data": {
      "text/plain": [
       "array([0, 1, 1, 1, 2], dtype=int64)"
      ]
     },
     "execution_count": 119,
     "metadata": {},
     "output_type": "execute_result"
    }
   ],
   "source": [
    "y = df['tipo servicio'].values\n",
    "y[0:5]"
   ]
  },
  {
   "cell_type": "code",
   "execution_count": 120,
   "metadata": {},
   "outputs": [
    {
     "data": {
      "text/plain": [
       "array([[-1.22474487, -0.53254229, -1.41421356, -1.24473139],\n",
       "       [ 0.        , -1.14116204,  0.70710678, -0.06551218],\n",
       "       [ 1.22474487, -0.91292963,  0.70710678, -0.06551218],\n",
       "       [-1.22474487,  0.9890071 ,  0.70710678, -0.06551218],\n",
       "       [ 1.22474487,  0.22823241, -1.41421356,  1.11370703]])"
      ]
     },
     "execution_count": 120,
     "metadata": {},
     "output_type": "execute_result"
    }
   ],
   "source": [
    "X= preprocessing.StandardScaler().fit(X).transform(X)\n",
    "X[0:5]\n"
   ]
  },
  {
   "cell_type": "code",
   "execution_count": 121,
   "metadata": {},
   "outputs": [
    {
     "name": "stdout",
     "output_type": "stream",
     "text": [
      "Train set: (14, 4) (14,)\n",
      "Test set: (4, 4) (4,)\n"
     ]
    }
   ],
   "source": [
    "from sklearn.model_selection import train_test_split\n",
    "\n",
    "\n",
    "X_train, X_test, y_train, y_test = train_test_split (X,y,test_size = 0.2, random_state = 4)\n",
    "X_train, X_test, y_train, y_test = train_test_split( X, y, test_size=0.2, random_state=4)\n",
    "print ('Train set:', X_train.shape,  y_train.shape)\n",
    "print ('Test set:', X_test.shape,  y_test.shape)"
   ]
  },
  {
   "cell_type": "code",
   "execution_count": 122,
   "metadata": {},
   "outputs": [
    {
     "name": "stdout",
     "output_type": "stream",
     "text": [
      "The best accuracy was with 0.75 with k= 4\n"
     ]
    }
   ],
   "source": [
    "from sklearn import metrics\n",
    "from sklearn.neighbors import KNeighborsClassifier\n",
    "#Find the best k using accuracy score:\n",
    "Ks = 10\n",
    "mean_acc = np.zeros((Ks-1))\n",
    "std_acc = np.zeros((Ks-1))\n",
    "ConfustionMx = [];\n",
    "for n in range(1,Ks):\n",
    "    \n",
    "    #Train Model and Predict  \n",
    "    neigh = KNeighborsClassifier(n_neighbors = n).fit(X_train,y_train)\n",
    "    yhat=neigh.predict(X_test)\n",
    "    mean_acc[n-1] = metrics.accuracy_score(y_test, yhat)\n",
    "\n",
    "    \n",
    "    std_acc[n-1]=np.std(yhat==y_test)/np.sqrt(yhat.shape[0])\n",
    "\n",
    "    mean_acc\n",
    "print( \"The best accuracy was with\", mean_acc.max(), \"with k=\", mean_acc.argmax()+1)"
   ]
  },
  {
   "cell_type": "code",
   "execution_count": 137,
   "metadata": {},
   "outputs": [
    {
     "name": "stdout",
     "output_type": "stream",
     "text": [
      "[1 1 1 1]\n",
      "[0 1 1 1 2]\n",
      "   sector  edad sexo      tipo servicio\n",
      "0   norte    20    M            Barbero\n",
      "1     sur    12    F  manicure-pedicure\n",
      "2  centro    15    F  manicure-pedicure\n",
      "3   norte    40    F  manicure-pedicure\n",
      "4  centro    30    M         corte pelo\n"
     ]
    }
   ],
   "source": [
    "k = 4\n",
    "#Train our model: \n",
    "neigh = KNeighborsClassifier(n_neighbors = k).fit(X_train,y_train)\n",
    "#Predict \n",
    "\n",
    "print(yhat[0:5])\n",
    "# el tipo 1  es manicure pedicure es la predicción que mas   servicio va a tener en el negocio\n",
    "\n",
    "#tipo  de servicio\n",
    "print(y[0:5])\n",
    "#tipo servicio 0\n",
    "#'Barbero','manicure-pedicure','corte pelo','blower'], value=[0,1,2,3]\n",
    "print(Feature[0:5])"
   ]
  },
  {
   "cell_type": "markdown",
   "metadata": {},
   "source": [
    "# Results "
   ]
  },
  {
   "cell_type": "code",
   "execution_count": null,
   "metadata": {},
   "outputs": [],
   "source": [
    "\n",
    "indicating the prediction that the type of manicure-pedicure service is going to\n",
    "be the most used"
   ]
  },
  {
   "cell_type": "markdown",
   "metadata": {},
   "source": [
    "# Discussion"
   ]
  },
  {
   "cell_type": "markdown",
   "metadata": {},
   "source": [
    "You have to do more data collection and verify in central places where more people go who can become future customers"
   ]
  },
  {
   "cell_type": "markdown",
   "metadata": {},
   "source": [
    "# Conclusion"
   ]
  },
  {
   "cell_type": "markdown",
   "metadata": {},
   "source": [
    "As a conclusion, based on the data collected, the women manicure service will be consumed more, it must try to offer more services and perform new data collection for its analysis and improve the types of services offered."
   ]
  },
  {
   "cell_type": "code",
   "execution_count": null,
   "metadata": {},
   "outputs": [],
   "source": []
  }
 ],
 "metadata": {
  "kernelspec": {
   "display_name": "Python 3",
   "language": "python",
   "name": "python3"
  },
  "language_info": {
   "codemirror_mode": {
    "name": "ipython",
    "version": 3
   },
   "file_extension": ".py",
   "mimetype": "text/x-python",
   "name": "python",
   "nbconvert_exporter": "python",
   "pygments_lexer": "ipython3",
   "version": "3.7.3"
  }
 },
 "nbformat": 4,
 "nbformat_minor": 2
}
